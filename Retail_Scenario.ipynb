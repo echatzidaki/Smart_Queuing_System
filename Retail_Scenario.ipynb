{
 "cells": [
  {
   "cell_type": "markdown",
   "metadata": {},
   "source": [
    "# Smart Queue Monitoring System - Retail Scenario\n",
    "\n",
    "## Overview\n",
    "Now that you have your Python script and job submission script, you're ready to request an **IEI Tank-870** edge node and run inference on the different hardware types (CPU, GPU, VPU, FPGA).\n",
    "\n",
    "After the inference is completed, the output video and stats files need to be retrieved and stored in the workspace, which can then be viewed within the Jupyter Notebook.\n",
    "\n",
    "## Objectives\n",
    "* Submit inference jobs to Intel's DevCloud using the `qsub` command.\n",
    "* Retrieve and review the results.\n",
    "* After testing, go back to the proposal doc and update your original proposed hardware device."
   ]
  },
  {
   "cell_type": "markdown",
   "metadata": {},
   "source": [
    "## Step 0: Set Up\n",
    "\n",
    "#### IMPORTANT: Set up paths so we can run Dev Cloud utilities\n",
    "You *must* run this every time you enter a Workspace session.\n",
    "(Tip: select the cell and use **Shift+Enter** to run the cell.)"
   ]
  },
  {
   "cell_type": "code",
   "execution_count": 1,
   "metadata": {},
   "outputs": [
    {
     "name": "stdout",
     "output_type": "stream",
     "text": [
      "env: PATH=/opt/conda/bin:/opt/spark-2.4.3-bin-hadoop2.7/bin:/opt/conda/bin:/usr/local/sbin:/usr/local/bin:/usr/sbin:/usr/bin:/sbin:/bin:/opt/intel_devcloud_support\n"
     ]
    }
   ],
   "source": [
    "%env PATH=/opt/conda/bin:/opt/spark-2.4.3-bin-hadoop2.7/bin:/opt/conda/bin:/usr/local/sbin:/usr/local/bin:/usr/sbin:/usr/bin:/sbin:/bin:/opt/intel_devcloud_support\n",
    "import os\n",
    "import sys\n",
    "sys.path.insert(0, os.path.abspath('/opt/intel_devcloud_support'))\n",
    "sys.path.insert(0, os.path.abspath('/opt/intel'))"
   ]
  },
  {
   "cell_type": "markdown",
   "metadata": {},
   "source": [
    "### Step 0.1:  (Optional-step): Original Video\n",
    "\n",
    "If you are curious to see the input video, run the following cell to view the original video stream we'll be using for inference."
   ]
  },
  {
   "cell_type": "code",
   "execution_count": 2,
   "metadata": {},
   "outputs": [
    {
     "data": {
      "text/html": [
       "<h5>Retail</h5>\n",
       "        <video alt=\"\" controls autoplay muted height=\"480\"><source src=\"original_videos/Retail.mp4\" type=\"video/mp4\" /></video>\n",
       "        "
      ],
      "text/plain": [
       "<IPython.core.display.HTML object>"
      ]
     },
     "execution_count": 2,
     "metadata": {},
     "output_type": "execute_result"
    }
   ],
   "source": [
    "import videoHtml\n",
    "videoHtml.videoHTML('Retail', ['original_videos/Retail.mp4'])"
   ]
  },
  {
   "cell_type": "markdown",
   "metadata": {},
   "source": [
    "## Step 1 : Inference on a Video\n",
    "\n",
    "In the next few cells, You'll submit your job using the `qsub` command and retrieving the results for each job. Each of the cells below should submit a job to different edge compute nodes.\n",
    "\n",
    "The output of the cell is the `JobID` of your job, which you can use to track progress of a job with `liveQStat`.\n",
    "\n",
    "You will need to submit a job for each of the following hardware types:\n",
    "* **CPU**\n",
    "* **GPU**\n",
    "* **VPU**\n",
    "* **FPGA**\n",
    "\n",
    "**Note** You will have to submit each job one at a time and retrieve their results. \n",
    "\n",
    "After submission, they will go into a queue and run as soon as the requested compute resources become available. \n",
    "(Tip: **shift+enter** will run the cell and automatically move you to the next cell.)\n",
    "\n",
    "If your job successfully runs and completes, once you retrieve your results, it should output a video and a stats text file in the `results/retail/<DEVICE>` directory.\n",
    "\n",
    "For example, your **CPU** job should output its files in this directory:\n",
    "> **results/retail/cpu**\n",
    "\n",
    "**Note**: To get the queue labels for the different hardware devices, you can go to [this link](https://devcloud.intel.com/edge/get_started/devcloud/).\n",
    "\n",
    "The following arguments should be passed to the job submission script after the `-F` flag:\n",
    "* Model path - `/data/models/intel/person-detection-retail-0013/<MODEL PRECISION>/`. You will need to adjust this path based on the model precision being using on the hardware.\n",
    "* Device - `CPU`, `GPU`, `MYRIAD`, `HETERO:FPGA,CPU`\n",
    "* Manufacturing video path - `/data/resources/retail.mp4`\n",
    "* Manufacturing queue_param file path - `/data/queue_param/retail.npy`\n",
    "* Output path - `/output/results/retail/<DEVICE>` This should be adjusted based on the device used in the job.\n",
    "* Max num of people - This is the max number of people in queue before the system would redirect them to another queue."
   ]
  },
  {
   "cell_type": "markdown",
   "metadata": {},
   "source": [
    "## Step 1.1: Submit to an Edge Compute Node with an Intel CPU\n",
    "In the cell below, write a script to submit a job to an <a \n",
    "    href=\"https://software.intel.com/en-us/iot/hardware/iei-tank-dev-kit-core\">IEI \n",
    "    Tank* 870-Q170</a> edge node with an <a \n",
    "    href=\"https://ark.intel.com/products/88186/Intel-Core-i5-6500TE-Processor-6M-Cache-up-to-3-30-GHz-\">Intel® Core™ i5-6500TE processor</a>. The inference workload should run on the CPU."
   ]
  },
  {
   "cell_type": "code",
   "execution_count": 3,
   "metadata": {},
   "outputs": [
    {
     "name": "stdout",
     "output_type": "stream",
     "text": [
      "hZYWzYkxcSljRjPXGUN2W4jX3rYvMKrM\n"
     ]
    }
   ],
   "source": [
    "#Submit job to the queue\n",
    "cpu_job_id = !qsub queue_job.sh -d . -l nodes=1:tank-870:i5-6500te -F \"/data/models/intel/person-detection-retail-0013/FP32/person-detection-retail-0013 CPU /data/resources/retail.mp4 /data/queue_param/retail.npy /output/results/retail/cpu 5\" -N store_core\n",
    "print(cpu_job_id[0])"
   ]
  },
  {
   "cell_type": "markdown",
   "metadata": {},
   "source": [
    "#### Check Job Status\n",
    "\n",
    "To check on the job that was submitted, use `liveQStat` to check the status of the job.\n",
    "\n",
    "Column `S` shows the state of your running jobs.\n",
    "\n",
    "For example:\n",
    "- If `JOB ID`is in Q state, it is in the queue waiting for available resources.\n",
    "- If `JOB ID` is in R state, it is running."
   ]
  },
  {
   "cell_type": "code",
   "execution_count": 4,
   "metadata": {},
   "outputs": [],
   "source": [
    "import liveQStat\n",
    "liveQStat.liveQStat()"
   ]
  },
  {
   "cell_type": "markdown",
   "metadata": {},
   "source": [
    "#### Get Results\n",
    "\n",
    "Run the next cell to retrieve your job's results."
   ]
  },
  {
   "cell_type": "code",
   "execution_count": 5,
   "metadata": {},
   "outputs": [
    {
     "name": "stdout",
     "output_type": "stream",
     "text": [
      "getResults() is blocking until results of the job (id:hZYWzYkxcSljRjPXGUN2W4jX3rYvMKrM) are ready.\n",
      "Please wait.....................Success!\n",
      "output.tgz was downloaded in the same folder as this notebook.\n"
     ]
    }
   ],
   "source": [
    "import get_results\n",
    "get_results.getResults(cpu_job_id[0], filename='output.tgz', blocking=True)"
   ]
  },
  {
   "cell_type": "markdown",
   "metadata": {},
   "source": [
    "#### Unpack your output files and view stdout.log"
   ]
  },
  {
   "cell_type": "code",
   "execution_count": 6,
   "metadata": {},
   "outputs": [],
   "source": [
    "!tar zxf output.tgz"
   ]
  },
  {
   "cell_type": "code",
   "execution_count": 7,
   "metadata": {},
   "outputs": [
    {
     "name": "stdout",
     "output_type": "stream",
     "text": [
      "draw_outputs\r\n",
      "Total People in frame = 4\r\n",
      "Number of people in queue = {1: 1, 2: 1}\r\n",
      "draw_outputs\r\n",
      "Total People in frame = 4\r\n",
      "Number of people in queue = {1: 1, 2: 1}\r\n",
      "draw_outputs\r\n",
      "Total People in frame = 5\r\n",
      "Number of people in queue = {1: 1, 2: 1}\r\n",
      "draw_outputs\r\n",
      "Total People in frame = 2\r\n",
      "Number of people in queue = {1: 1, 2: 0}\r\n",
      "draw_outputs\r\n",
      "Total People in frame = 0\r\n",
      "Number of people in queue = {1: 0, 2: 0}\r\n",
      "results/\r\n",
      "results/retail/\r\n",
      "results/retail/cpu/\r\n",
      "results/retail/cpu/stats.txt\r\n",
      "results/retail/cpu/output_video.mp4\r\n",
      "stderr.log\r\n"
     ]
    }
   ],
   "source": [
    "!cat stdout.log"
   ]
  },
  {
   "cell_type": "markdown",
   "metadata": {},
   "source": [
    "#### View stderr.log\n",
    "This can be used for debugging"
   ]
  },
  {
   "cell_type": "code",
   "execution_count": 8,
   "metadata": {},
   "outputs": [],
   "source": [
    "!cat stderr.log"
   ]
  },
  {
   "cell_type": "markdown",
   "metadata": {},
   "source": [
    "#### View Output Video\n",
    "Run the cell below to view the output video. If inference was successfully run, you should see a video with bounding boxes drawn around each person detected."
   ]
  },
  {
   "cell_type": "code",
   "execution_count": 9,
   "metadata": {},
   "outputs": [
    {
     "data": {
      "text/html": [
       "<h5>Retail CPU</h5>\n",
       "        <video alt=\"\" controls autoplay muted height=\"480\"><source src=\"results/retail/cpu/output_video.mp4\" type=\"video/mp4\" /></video>\n",
       "        "
      ],
      "text/plain": [
       "<IPython.core.display.HTML object>"
      ]
     },
     "execution_count": 9,
     "metadata": {},
     "output_type": "execute_result"
    }
   ],
   "source": [
    "import videoHtml\n",
    "\n",
    "videoHtml.videoHTML('Retail CPU', ['results/retail/cpu/output_video.mp4'])"
   ]
  },
  {
   "cell_type": "markdown",
   "metadata": {},
   "source": [
    "## Step 1.2: Submit to an Edge Compute Node with a CPU and IGPU\n",
    "In the cell below, write a script to submit a job to an <a \n",
    "    href=\"https://software.intel.com/en-us/iot/hardware/iei-tank-dev-kit-core\">IEI \n",
    "    Tank* 870-Q170</a> edge node with an <a href=\"https://ark.intel.com/products/88186/Intel-Core-i5-6500TE-Processor-6M-Cache-up-to-3-30-GHz-\">Intel® Core i5-6500TE</a>. The inference workload should run on the **Intel® HD Graphics 530** integrated GPU."
   ]
  },
  {
   "cell_type": "code",
   "execution_count": 77,
   "metadata": {},
   "outputs": [
    {
     "name": "stdout",
     "output_type": "stream",
     "text": [
      "k8163L3u7QXY3GiSdRTbmAGXo8LAxskU\n"
     ]
    }
   ],
   "source": [
    "#Submit job to the queue\n",
    "gpu_job_id = !qsub queue_job.sh -d . -l nodes=1:tank-870:i5-6500te:intel-hd-530 -F \"/data/models/intel/person-detection-retail-0013/FP16/person-detection-retail-0013 GPU /data/resources/retail.mp4 /data/queue_param/retail.npy /output/results/retail/gpu 5\" -N store_core\n",
    "\n",
    "print(gpu_job_id[0])"
   ]
  },
  {
   "cell_type": "markdown",
   "metadata": {},
   "source": [
    "### Check Job Status\n",
    "\n",
    "To check on the job that was submitted, use `liveQStat` to check the status of the job.\n",
    "\n",
    "Column `S` shows the state of your running jobs.\n",
    "\n",
    "For example:\n",
    "- If `JOB ID`is in Q state, it is in the queue waiting for available resources.\n",
    "- If `JOB ID` is in R state, it is running."
   ]
  },
  {
   "cell_type": "code",
   "execution_count": 78,
   "metadata": {},
   "outputs": [],
   "source": [
    "import liveQStat\n",
    "liveQStat.liveQStat()"
   ]
  },
  {
   "cell_type": "markdown",
   "metadata": {},
   "source": [
    "#### Get Results\n",
    "\n",
    "Run the next cell to retrieve your job's results."
   ]
  },
  {
   "cell_type": "code",
   "execution_count": 79,
   "metadata": {},
   "outputs": [
    {
     "name": "stdout",
     "output_type": "stream",
     "text": [
      "getResults() is blocking until results of the job (id:k8163L3u7QXY3GiSdRTbmAGXo8LAxskU) are ready.\n",
      "Please wait.............................................Success!\n",
      "output.tgz was downloaded in the same folder as this notebook.\n"
     ]
    }
   ],
   "source": [
    "import get_results\n",
    "get_results.getResults(gpu_job_id[0], filename='output.tgz', blocking=True)"
   ]
  },
  {
   "cell_type": "markdown",
   "metadata": {},
   "source": [
    "#### Unpack your output files and view stdout.log"
   ]
  },
  {
   "cell_type": "code",
   "execution_count": 80,
   "metadata": {},
   "outputs": [],
   "source": [
    "!tar zxf output.tgz"
   ]
  },
  {
   "cell_type": "code",
   "execution_count": 81,
   "metadata": {},
   "outputs": [
    {
     "name": "stdout",
     "output_type": "stream",
     "text": [
      "draw_outputs\r\n",
      "Total People in frame = 4\r\n",
      "Number of people in queue = {1: 1, 2: 1}\r\n",
      "draw_outputs\r\n",
      "Total People in frame = 4\r\n",
      "Number of people in queue = {1: 1, 2: 1}\r\n",
      "draw_outputs\r\n",
      "Total People in frame = 5\r\n",
      "Number of people in queue = {1: 1, 2: 1}\r\n",
      "draw_outputs\r\n",
      "Total People in frame = 4\r\n",
      "Number of people in queue = {1: 1, 2: 1}\r\n",
      "draw_outputs\r\n",
      "Total People in frame = 2\r\n",
      "Number of people in queue = {1: 1, 2: 0}\r\n",
      "draw_outputs\r\n",
      "Total People in frame = 2\r\n",
      "Number of people in queue = {1: 1, 2: 0}\r\n",
      "draw_outputs\r\n",
      "Total People in frame = 0\r\n",
      "Number of people in queue = {1: 0, 2: 0}\r\n",
      "results/\r\n",
      "results/retail/\r\n",
      "results/retail/gpu/\r\n",
      "results/retail/gpu/stats.txt\r\n",
      "results/retail/gpu/output_video.mp4\r\n",
      "stderr.log\r\n"
     ]
    }
   ],
   "source": [
    "!cat stdout.log"
   ]
  },
  {
   "cell_type": "markdown",
   "metadata": {},
   "source": [
    "#### View stderr.log\n",
    "This can be used for debugging"
   ]
  },
  {
   "cell_type": "code",
   "execution_count": 82,
   "metadata": {},
   "outputs": [],
   "source": [
    "!cat stderr.log"
   ]
  },
  {
   "cell_type": "markdown",
   "metadata": {},
   "source": [
    "#### View Output Video\n",
    "Run the cell below to view the output video. If inference was successfully run, you should see a video with bounding boxes drawn around each person detected."
   ]
  },
  {
   "cell_type": "code",
   "execution_count": 83,
   "metadata": {},
   "outputs": [
    {
     "data": {
      "text/html": [
       "<h5>Retail GPU</h5>\n",
       "        <video alt=\"\" controls autoplay muted height=\"480\"><source src=\"results/retail/gpu/output_video.mp4\" type=\"video/mp4\" /></video>\n",
       "        "
      ],
      "text/plain": [
       "<IPython.core.display.HTML object>"
      ]
     },
     "execution_count": 83,
     "metadata": {},
     "output_type": "execute_result"
    }
   ],
   "source": [
    "import videoHtml\n",
    "\n",
    "videoHtml.videoHTML('Retail GPU', ['results/retail/gpu/output_video.mp4'])"
   ]
  },
  {
   "cell_type": "markdown",
   "metadata": {},
   "source": [
    "## Step 1.3: Submit to an Edge Compute Node with an Intel® Neural Compute Stick 2\n",
    "In the cell below, write a script to submit a job to an <a \n",
    "    href=\"https://software.intel.com/en-us/iot/hardware/iei-tank-dev-kit-core\">IEI \n",
    "    Tank 870-Q170</a> edge node with an <a href=\"https://ark.intel.com/products/88186/Intel-Core-i5-6500TE-Processor-6M-Cache-up-to-3-30-GHz-\">Intel Core i5-6500te CPU</a>. The inference workload should run on an <a \n",
    "    href=\"https://software.intel.com/en-us/neural-compute-stick\">Intel Neural Compute Stick 2</a> installed in this  node."
   ]
  },
  {
   "cell_type": "code",
   "execution_count": 24,
   "metadata": {},
   "outputs": [
    {
     "name": "stdout",
     "output_type": "stream",
     "text": [
      "h2fKj682dU9ouHvHWVmI3eQOt5xYgL5C\n"
     ]
    }
   ],
   "source": [
    "#Submit job to the queue\n",
    "vpu_job_id = !qsub queue_job.sh -d . -l nodes=1:tank-870:i5-6500te:intel-ncs2 -F \"/data/models/intel/person-detection-retail-0013/FP16/person-detection-retail-0013 MYRIAD /data/resources/retail.mp4 /data/queue_param/retail.npy /output/results/retail/vpu 5\" -N store_core\n",
    "\n",
    "print(vpu_job_id[0])"
   ]
  },
  {
   "cell_type": "markdown",
   "metadata": {},
   "source": [
    "### Check Job Status\n",
    "\n",
    "To check on the job that was submitted, use `liveQStat` to check the status of the job.\n",
    "\n",
    "Column `S` shows the state of your running jobs.\n",
    "\n",
    "For example:\n",
    "- If `JOB ID`is in Q state, it is in the queue waiting for available resources.\n",
    "- If `JOB ID` is in R state, it is running."
   ]
  },
  {
   "cell_type": "code",
   "execution_count": 25,
   "metadata": {},
   "outputs": [],
   "source": [
    "import liveQStat\n",
    "liveQStat.liveQStat()"
   ]
  },
  {
   "cell_type": "markdown",
   "metadata": {},
   "source": [
    "#### Get Results\n",
    "\n",
    "Run the next cell to retrieve your job's results."
   ]
  },
  {
   "cell_type": "code",
   "execution_count": 26,
   "metadata": {},
   "outputs": [
    {
     "name": "stdout",
     "output_type": "stream",
     "text": [
      "getResults() is blocking until results of the job (id:h2fKj682dU9ouHvHWVmI3eQOt5xYgL5C) are ready.\n",
      "Please wait.......................Success!\n",
      "output.tgz was downloaded in the same folder as this notebook.\n"
     ]
    }
   ],
   "source": [
    "import get_results\n",
    "get_results.getResults(vpu_job_id[0], filename='output.tgz', blocking=True)"
   ]
  },
  {
   "cell_type": "markdown",
   "metadata": {},
   "source": [
    "#### Unpack your output files and view stdout.log"
   ]
  },
  {
   "cell_type": "code",
   "execution_count": 27,
   "metadata": {},
   "outputs": [],
   "source": [
    "!tar zxf output.tgz"
   ]
  },
  {
   "cell_type": "code",
   "execution_count": 28,
   "metadata": {},
   "outputs": [
    {
     "name": "stdout",
     "output_type": "stream",
     "text": [
      "draw_outputs\r\n",
      "Total People in frame = 4\r\n",
      "Number of people in queue = {1: 1, 2: 1}\r\n",
      "draw_outputs\r\n",
      "Total People in frame = 4\r\n",
      "Number of people in queue = {1: 1, 2: 1}\r\n",
      "draw_outputs\r\n",
      "Total People in frame = 4\r\n",
      "Number of people in queue = {1: 1, 2: 1}\r\n",
      "draw_outputs\r\n",
      "Total People in frame = 4\r\n",
      "Number of people in queue = {1: 1, 2: 1}\r\n",
      "draw_outputs\r\n",
      "Total People in frame = 2\r\n",
      "Number of people in queue = {1: 1, 2: 0}\r\n",
      "draw_outputs\r\n",
      "Total People in frame = 0\r\n",
      "Number of people in queue = {1: 0, 2: 0}\r\n",
      "results/\r\n",
      "results/retail/\r\n",
      "results/retail/vpu/\r\n",
      "results/retail/vpu/stats.txt\r\n",
      "results/retail/vpu/output_video.mp4\r\n",
      "stderr.log\r\n"
     ]
    }
   ],
   "source": [
    "!cat stdout.log"
   ]
  },
  {
   "cell_type": "markdown",
   "metadata": {},
   "source": [
    "#### View stderr.log\n",
    "This can be used for debugging"
   ]
  },
  {
   "cell_type": "code",
   "execution_count": 29,
   "metadata": {},
   "outputs": [],
   "source": [
    "!cat stderr.log"
   ]
  },
  {
   "cell_type": "markdown",
   "metadata": {},
   "source": [
    "#### View Output Video\n",
    "Run the cell below to view the output video. If inference was successfully run, you should see a video with bounding boxes drawn around each person detected."
   ]
  },
  {
   "cell_type": "code",
   "execution_count": 30,
   "metadata": {},
   "outputs": [
    {
     "data": {
      "text/html": [
       "<h5>Retail VPU</h5>\n",
       "        <video alt=\"\" controls autoplay muted height=\"480\"><source src=\"results/retail/vpu/output_video.mp4\" type=\"video/mp4\" /></video>\n",
       "        "
      ],
      "text/plain": [
       "<IPython.core.display.HTML object>"
      ]
     },
     "execution_count": 30,
     "metadata": {},
     "output_type": "execute_result"
    }
   ],
   "source": [
    "import videoHtml\n",
    "\n",
    "videoHtml.videoHTML('Retail VPU', ['results/retail/vpu/output_video.mp4'])"
   ]
  },
  {
   "cell_type": "code",
   "execution_count": 31,
   "metadata": {},
   "outputs": [
    {
     "name": "stdout",
     "output_type": "stream",
     "text": [
      "1BCJCVbe3UePgyPGeyFwlNBgQZk56Mnl\n"
     ]
    }
   ],
   "source": [
    "cpu_vpu_job_id_core = !qsub queue_job.sh -d . -l nodes=1:tank-870:i5-6500te:intel-ncs2 -F \"/data/models/intel/person-detection-retail-0013/FP16/person-detection-retail-0013 MULTI:CPU,MYRIAD /data/resources/retail.mp4 /data/queue_param/retail.npy /output/results/retail/cpu-vpu 5\" -N store_core\n",
    "print(cpu_vpu_job_id_core[0])"
   ]
  },
  {
   "cell_type": "code",
   "execution_count": 32,
   "metadata": {},
   "outputs": [],
   "source": [
    "import liveQStat\n",
    "liveQStat.liveQStat()"
   ]
  },
  {
   "cell_type": "code",
   "execution_count": 33,
   "metadata": {},
   "outputs": [
    {
     "name": "stdout",
     "output_type": "stream",
     "text": [
      "getResults() is blocking until results of the job (id:1BCJCVbe3UePgyPGeyFwlNBgQZk56Mnl) are ready.\n",
      "Please wait......................Success!\n",
      "output.tgz was downloaded in the same folder as this notebook.\n"
     ]
    }
   ],
   "source": [
    "import get_results\n",
    "get_results.getResults(cpu_vpu_job_id_core[0], filename='output.tgz', blocking=True)"
   ]
  },
  {
   "cell_type": "code",
   "execution_count": 34,
   "metadata": {},
   "outputs": [],
   "source": [
    "!tar zxf output.tgz"
   ]
  },
  {
   "cell_type": "code",
   "execution_count": 35,
   "metadata": {},
   "outputs": [
    {
     "name": "stdout",
     "output_type": "stream",
     "text": [
      "draw_outputs\r\n",
      "Total People in frame = 4\r\n",
      "Number of people in queue = {1: 1, 2: 1}\r\n",
      "draw_outputs\r\n",
      "Total People in frame = 4\r\n",
      "Number of people in queue = {1: 1, 2: 1}\r\n",
      "draw_outputs\r\n",
      "Total People in frame = 2\r\n",
      "Number of people in queue = {1: 1, 2: 0}\r\n",
      "draw_outputs\r\n",
      "Total People in frame = 0\r\n",
      "Number of people in queue = {1: 0, 2: 0}\r\n",
      "results/\r\n",
      "results/retail/\r\n",
      "results/retail/cpu-vpu/\r\n",
      "results/retail/cpu-vpu/stats.txt\r\n",
      "results/retail/cpu-vpu/output_video.mp4\r\n",
      "stderr.log\r\n"
     ]
    }
   ],
   "source": [
    "!cat stdout.log"
   ]
  },
  {
   "cell_type": "code",
   "execution_count": 36,
   "metadata": {},
   "outputs": [],
   "source": [
    "!cat stderr.log"
   ]
  },
  {
   "cell_type": "code",
   "execution_count": 37,
   "metadata": {},
   "outputs": [
    {
     "data": {
      "text/html": [
       "<h5>Retail MULTI:CPU,MYRIAD</h5>\n",
       "        <video alt=\"\" controls autoplay muted height=\"480\"><source src=\"results/retail/cpu-vpu/output_video.mp4\" type=\"video/mp4\" /></video>\n",
       "        "
      ],
      "text/plain": [
       "<IPython.core.display.HTML object>"
      ]
     },
     "execution_count": 37,
     "metadata": {},
     "output_type": "execute_result"
    }
   ],
   "source": [
    "import videoHtml\n",
    "\n",
    "videoHtml.videoHTML('Retail MULTI:CPU,MYRIAD', ['results/retail/cpu-vpu/output_video.mp4'])"
   ]
  },
  {
   "cell_type": "code",
   "execution_count": 38,
   "metadata": {},
   "outputs": [
    {
     "name": "stdout",
     "output_type": "stream",
     "text": [
      "UIOGM5ENAvDb5otsbNPFaAaNfRE9NlKE\n"
     ]
    }
   ],
   "source": [
    "gpu_vpu_job_id_core = !qsub queue_job.sh -d . -l nodes=1:tank-870:i5-6500te:intel-hd-530:intel-ncs2 -F \"/data/models/intel/person-detection-retail-0013/FP16/person-detection-retail-0013 MULTI:GPU,MYRIAD /data/resources/retail.mp4 /data/queue_param/retail.npy /output/results/retail/gpu-vpu 5\" -N store_core\n",
    "print(gpu_vpu_job_id_core[0])"
   ]
  },
  {
   "cell_type": "code",
   "execution_count": 39,
   "metadata": {},
   "outputs": [],
   "source": [
    "import liveQStat\n",
    "liveQStat.liveQStat()"
   ]
  },
  {
   "cell_type": "code",
   "execution_count": 40,
   "metadata": {},
   "outputs": [
    {
     "name": "stdout",
     "output_type": "stream",
     "text": [
      "getResults() is blocking until results of the job (id:UIOGM5ENAvDb5otsbNPFaAaNfRE9NlKE) are ready.\n",
      "Please wait...........................................Success!\n",
      "output.tgz was downloaded in the same folder as this notebook.\n"
     ]
    }
   ],
   "source": [
    "import get_results\n",
    "get_results.getResults(gpu_vpu_job_id_core[0], filename='output.tgz', blocking=True)"
   ]
  },
  {
   "cell_type": "code",
   "execution_count": 41,
   "metadata": {},
   "outputs": [],
   "source": [
    "!tar zxf output.tgz"
   ]
  },
  {
   "cell_type": "code",
   "execution_count": 42,
   "metadata": {},
   "outputs": [
    {
     "name": "stdout",
     "output_type": "stream",
     "text": [
      "draw_outputs\r\n",
      "Total People in frame = 4\r\n",
      "Number of people in queue = {1: 1, 2: 1}\r\n",
      "draw_outputs\r\n",
      "Total People in frame = 4\r\n",
      "Number of people in queue = {1: 1, 2: 1}\r\n",
      "draw_outputs\r\n",
      "Total People in frame = 5\r\n",
      "Number of people in queue = {1: 1, 2: 1}\r\n",
      "draw_outputs\r\n",
      "Total People in frame = 4\r\n",
      "Number of people in queue = {1: 1, 2: 1}\r\n",
      "draw_outputs\r\n",
      "Total People in frame = 4\r\n",
      "Number of people in queue = {1: 1, 2: 1}\r\n",
      "draw_outputs\r\n",
      "Total People in frame = 4\r\n",
      "Number of people in queue = {1: 1, 2: 1}\r\n",
      "draw_outputs\r\n",
      "Total People in frame = 2\r\n",
      "Number of people in queue = {1: 1, 2: 0}\r\n",
      "draw_outputs\r\n",
      "Total People in frame = 0\r\n",
      "Number of people in queue = {1: 0, 2: 0}\r\n",
      "results/\r\n",
      "results/retail/\r\n",
      "results/retail/gpu-vpu/\r\n",
      "results/retail/gpu-vpu/stats.txt\r\n",
      "results/retail/gpu-vpu/output_video.mp4\r\n",
      "stderr.log\r\n"
     ]
    }
   ],
   "source": [
    "!cat stdout.log"
   ]
  },
  {
   "cell_type": "code",
   "execution_count": 43,
   "metadata": {},
   "outputs": [
    {
     "name": "stdout",
     "output_type": "stream",
     "text": [
      "draw_outputs\r\n",
      "Total People in frame = 4\r\n",
      "Number of people in queue = {1: 1, 2: 1}\r\n",
      "draw_outputs\r\n",
      "Total People in frame = 4\r\n",
      "Number of people in queue = {1: 1, 2: 1}\r\n",
      "draw_outputs\r\n",
      "Total People in frame = 5\r\n",
      "Number of people in queue = {1: 1, 2: 1}\r\n",
      "draw_outputs\r\n",
      "Total People in frame = 2\r\n",
      "Number of people in queue = {1: 1, 2: 0}\r\n",
      "draw_outputs\r\n",
      "Total People in frame = 0\r\n",
      "Number of people in queue = {1: 0, 2: 0}\r\n",
      "results/\r\n",
      "results/retail/\r\n",
      "results/retail/gpu-vpu/\r\n",
      "results/retail/gpu-vpu/stats.txt\r\n",
      "results/retail/gpu-vpu/output_video.mp4\r\n",
      "stderr.log\r\n"
     ]
    }
   ],
   "source": [
    "!cat stdout.log"
   ]
  },
  {
   "cell_type": "code",
   "execution_count": 44,
   "metadata": {},
   "outputs": [
    {
     "data": {
      "text/html": [
       "<h5>Retail MULTI:GPU,MYRIAD</h5>\n",
       "        <video alt=\"\" controls autoplay muted height=\"480\"><source src=\"results/retail/gpu-vpu/output_video.mp4\" type=\"video/mp4\" /></video>\n",
       "        "
      ],
      "text/plain": [
       "<IPython.core.display.HTML object>"
      ]
     },
     "execution_count": 44,
     "metadata": {},
     "output_type": "execute_result"
    }
   ],
   "source": [
    "import videoHtml\n",
    "\n",
    "videoHtml.videoHTML('Retail MULTI:GPU,MYRIAD', ['results/retail/gpu-vpu/output_video.mp4'])"
   ]
  },
  {
   "cell_type": "code",
   "execution_count": 45,
   "metadata": {},
   "outputs": [
    {
     "name": "stdout",
     "output_type": "stream",
     "text": [
      "gWxrXbSYPCgN06XhUFjnW4nr9Zx3QSaw\n"
     ]
    }
   ],
   "source": [
    "cpu_gpu_vpu_job_id_core = !qsub queue_job.sh -d . -l nodes=1:tank-870:i5-6500te:intel-hd-530:intel-ncs2 -F \"/data/models/intel/person-detection-retail-0013/FP16/person-detection-retail-0013 MULTI:CPU,GPU,MYRIAD /data/resources/retail.mp4 /data/queue_param/retail.npy /output/results/retail/cpu-gpu-vpu 5\" -N store_core\n",
    "print(cpu_gpu_vpu_job_id_core[0])"
   ]
  },
  {
   "cell_type": "code",
   "execution_count": 46,
   "metadata": {},
   "outputs": [],
   "source": [
    "import liveQStat\n",
    "liveQStat.liveQStat()"
   ]
  },
  {
   "cell_type": "code",
   "execution_count": 47,
   "metadata": {},
   "outputs": [
    {
     "name": "stdout",
     "output_type": "stream",
     "text": [
      "getResults() is blocking until results of the job (id:gWxrXbSYPCgN06XhUFjnW4nr9Zx3QSaw) are ready.\n",
      "Please wait..........................................Success!\n",
      "output.tgz was downloaded in the same folder as this notebook.\n"
     ]
    }
   ],
   "source": [
    "import get_results\n",
    "get_results.getResults(cpu_gpu_vpu_job_id_core[0], filename='output.tgz', blocking=True)"
   ]
  },
  {
   "cell_type": "code",
   "execution_count": 48,
   "metadata": {},
   "outputs": [],
   "source": [
    "!tar zxf output.tgz"
   ]
  },
  {
   "cell_type": "code",
   "execution_count": 49,
   "metadata": {},
   "outputs": [
    {
     "name": "stdout",
     "output_type": "stream",
     "text": [
      "draw_outputs\r\n",
      "Total People in frame = 4\r\n",
      "Number of people in queue = {1: 1, 2: 1}\r\n",
      "draw_outputs\r\n",
      "Total People in frame = 4\r\n",
      "Number of people in queue = {1: 1, 2: 1}\r\n",
      "draw_outputs\r\n",
      "Total People in frame = 5\r\n",
      "Number of people in queue = {1: 1, 2: 1}\r\n",
      "draw_outputs\r\n",
      "Total People in frame = 2\r\n",
      "Number of people in queue = {1: 1, 2: 0}\r\n",
      "draw_outputs\r\n",
      "Total People in frame = 0\r\n",
      "Number of people in queue = {1: 0, 2: 0}\r\n",
      "results/\r\n",
      "results/retail/\r\n",
      "results/retail/cpu-gpu-vpu/\r\n",
      "results/retail/cpu-gpu-vpu/stats.txt\r\n",
      "results/retail/cpu-gpu-vpu/output_video.mp4\r\n",
      "stderr.log\r\n"
     ]
    }
   ],
   "source": [
    "!cat stdout.log"
   ]
  },
  {
   "cell_type": "code",
   "execution_count": 50,
   "metadata": {},
   "outputs": [
    {
     "name": "stdout",
     "output_type": "stream",
     "text": [
      "draw_outputs\r\n",
      "Total People in frame = 4\r\n",
      "Number of people in queue = {1: 1, 2: 1}\r\n",
      "draw_outputs\r\n",
      "Total People in frame = 4\r\n",
      "Number of people in queue = {1: 1, 2: 1}\r\n",
      "draw_outputs\r\n",
      "Total People in frame = 5\r\n",
      "Number of people in queue = {1: 1, 2: 1}\r\n",
      "draw_outputs\r\n",
      "Total People in frame = 4\r\n",
      "Number of people in queue = {1: 1, 2: 1}\r\n",
      "draw_outputs\r\n",
      "Total People in frame = 2\r\n",
      "Number of people in queue = {1: 1, 2: 0}\r\n",
      "draw_outputs\r\n",
      "Total People in frame = 0\r\n",
      "Number of people in queue = {1: 0, 2: 0}\r\n",
      "results/\r\n",
      "results/retail/\r\n",
      "results/retail/cpu-gpu-vpu/\r\n",
      "results/retail/cpu-gpu-vpu/stats.txt\r\n",
      "results/retail/cpu-gpu-vpu/output_video.mp4\r\n",
      "stderr.log\r\n"
     ]
    }
   ],
   "source": [
    "!cat stdout.log"
   ]
  },
  {
   "cell_type": "code",
   "execution_count": 51,
   "metadata": {},
   "outputs": [
    {
     "data": {
      "text/html": [
       "<h5>Retail MULTI:CPU,GPU,MYRIAD</h5>\n",
       "        <video alt=\"\" controls autoplay muted height=\"480\"><source src=\"results/retail/cpu-gpu-vpu/output_video.mp4\" type=\"video/mp4\" /></video>\n",
       "        "
      ],
      "text/plain": [
       "<IPython.core.display.HTML object>"
      ]
     },
     "execution_count": 51,
     "metadata": {},
     "output_type": "execute_result"
    }
   ],
   "source": [
    "import videoHtml\n",
    "\n",
    "videoHtml.videoHTML('Retail MULTI:CPU,GPU,MYRIAD', ['results/retail/cpu-gpu-vpu/output_video.mp4'])"
   ]
  },
  {
   "cell_type": "markdown",
   "metadata": {},
   "source": [
    "## Step 1.4: Submit to an Edge Compute Node with IEI Mustang-F100-A10\n",
    "In the cell below, write a script to submit a job to an <a \n",
    "    href=\"https://software.intel.com/en-us/iot/hardware/iei-tank-dev-kit-core\">IEI \n",
    "    Tank 870-Q170</a> edge node with an <a href=\"https://ark.intel.com/products/88186/Intel-Core-i5-6500TE-Processor-6M-Cache-up-to-3-30-GHz-\">Intel Core™ i5-6500te CPU</a> . The inference workload will run on the <a href=\"https://www.ieiworld.com/mustang-f100/en/\"> IEI Mustang-F100-A10 </a> FPGA card installed in this node."
   ]
  },
  {
   "cell_type": "code",
   "execution_count": 55,
   "metadata": {},
   "outputs": [
    {
     "name": "stdout",
     "output_type": "stream",
     "text": [
      "SAOoPnFfv1fY220MzEE0g1UeZaJqgsk2\n"
     ]
    }
   ],
   "source": [
    "#Submit job to the queue\n",
    "fpga_job_id = !qsub queue_job.sh -d . -l nodes=1:tank-870:i5-6500te:iei-mustang-f100-a10 -F \"/data/models/intel/person-detection-retail-0013/FP16/person-detection-retail-0013 HETERO:FPGA,CPU /data/resources/retail.mp4 /data/queue_param/retail.npy /output/results/retail/fpga-cpu 5\" -N store_core\n",
    "\n",
    "print(fpga_job_id[0])"
   ]
  },
  {
   "cell_type": "markdown",
   "metadata": {},
   "source": [
    "### Check Job Status\n",
    "\n",
    "To check on the job that was submitted, use `liveQStat` to check the status of the job.\n",
    "\n",
    "Column `S` shows the state of your running jobs.\n",
    "\n",
    "For example:\n",
    "- If `JOB ID`is in Q state, it is in the queue waiting for available resources.\n",
    "- If `JOB ID` is in R state, it is running."
   ]
  },
  {
   "cell_type": "code",
   "execution_count": 56,
   "metadata": {},
   "outputs": [],
   "source": [
    "import liveQStat\n",
    "liveQStat.liveQStat()"
   ]
  },
  {
   "cell_type": "markdown",
   "metadata": {},
   "source": [
    "#### Get Results\n",
    "\n",
    "Run the next cell to retrieve your job's results."
   ]
  },
  {
   "cell_type": "code",
   "execution_count": 57,
   "metadata": {},
   "outputs": [
    {
     "name": "stdout",
     "output_type": "stream",
     "text": [
      "getResults() is blocking until results of the job (id:SAOoPnFfv1fY220MzEE0g1UeZaJqgsk2) are ready.\n",
      "Please wait.......................................................................................Success!\n",
      "output.tgz was downloaded in the same folder as this notebook.\n"
     ]
    }
   ],
   "source": [
    "import get_results\n",
    "get_results.getResults(fpga_job_id[0], filename='output.tgz', blocking=True)"
   ]
  },
  {
   "cell_type": "markdown",
   "metadata": {},
   "source": [
    "#### Unpack your output files and view stdout.log"
   ]
  },
  {
   "cell_type": "code",
   "execution_count": 58,
   "metadata": {},
   "outputs": [],
   "source": [
    "!tar zxf output.tgz"
   ]
  },
  {
   "cell_type": "code",
   "execution_count": 59,
   "metadata": {},
   "outputs": [
    {
     "name": "stdout",
     "output_type": "stream",
     "text": [
      "INTELFPGAOCLSDKROOT is not set\r\n",
      "Using script's current directory (/opt/altera/aocl-pro-rte/aclrte-linux64)\r\n",
      "\r\n",
      "aoc was not found, but aocl was found. Assuming only RTE is installed.\r\n",
      "\r\n",
      "AOCL_BOARD_PACKAGE_ROOT is set to /opt/intel/openvino/bitstreams/a10_vision_design_sg2_bitstreams/BSP/a10_1150_sg2. Using that.\r\n",
      "Adding /opt/altera/aocl-pro-rte/aclrte-linux64/bin to PATH\r\n",
      "Adding /opt/altera/aocl-pro-rte/aclrte-linux64/linux64/lib to LD_LIBRARY_PATH\r\n",
      "Adding /opt/altera/aocl-pro-rte/aclrte-linux64/host/linux64/lib to LD_LIBRARY_PATH\r\n",
      "Adding /opt/intel/openvino/bitstreams/a10_vision_design_sg2_bitstreams/BSP/a10_1150_sg2/linux64/lib to LD_LIBRARY_PATH\r\n",
      "aocl program: Running program from /opt/intel/openvino/bitstreams/a10_vision_design_sg2_bitstreams/BSP/a10_1150_sg2/linux64/libexec\r\n",
      "Programming device: a10gx_2ddr : Intel Vision Accelerator Design with Intel Arria 10 FPGA (acla10_1150_sg20)\r\n",
      "Program succeed. \r\n",
      "draw_outputs\r\n",
      "Total People in frame = 4\r\n",
      "Number of people in queue = {1: 1, 2: 1}\r\n",
      "draw_outputs\r\n",
      "Total People in frame = 4\r\n",
      "Number of people in queue = {1: 1, 2: 1}\r\n",
      "draw_outputs\r\n",
      "Total People in frame = 5\r\n",
      "Number of people in queue = {1: 1, 2: 1}\r\n",
      "draw_outputs\r\n",
      "Total People in frame = 0\r\n",
      "Number of people in queue = {1: 0, 2: 0}\r\n",
      "results/\r\n",
      "results/retail/\r\n",
      "results/retail/fpga-cpu/\r\n",
      "results/retail/fpga-cpu/stats.txt\r\n",
      "results/retail/fpga-cpu/output_video.mp4\r\n",
      "stderr.log\r\n"
     ]
    }
   ],
   "source": [
    "!cat stdout.log"
   ]
  },
  {
   "cell_type": "markdown",
   "metadata": {},
   "source": [
    "#### View stderr.log\n",
    "This can be used for debugging"
   ]
  },
  {
   "cell_type": "code",
   "execution_count": 60,
   "metadata": {},
   "outputs": [],
   "source": [
    "!cat stderr.log"
   ]
  },
  {
   "cell_type": "markdown",
   "metadata": {},
   "source": [
    "#### View Output Video\n",
    "Run the cell below to view the output video. If inference was successfully run, you should see a video with bounding boxes drawn around each person detected."
   ]
  },
  {
   "cell_type": "code",
   "execution_count": 61,
   "metadata": {},
   "outputs": [
    {
     "data": {
      "text/html": [
       "<h5>Retail FPGA</h5>\n",
       "        <video alt=\"\" controls autoplay muted height=\"480\"><source src=\"results/retail/fpga-cpu/output_video.mp4\" type=\"video/mp4\" /></video>\n",
       "        "
      ],
      "text/plain": [
       "<IPython.core.display.HTML object>"
      ]
     },
     "execution_count": 61,
     "metadata": {},
     "output_type": "execute_result"
    }
   ],
   "source": [
    "import videoHtml\n",
    "\n",
    "videoHtml.videoHTML('Retail FPGA', ['results/retail/fpga-cpu/output_video.mp4'])"
   ]
  },
  {
   "cell_type": "code",
   "execution_count": 62,
   "metadata": {},
   "outputs": [
    {
     "name": "stdout",
     "output_type": "stream",
     "text": [
      "hPKv7pOxZz7fYidMmX2CwLyyGH3yLHn9\n"
     ]
    }
   ],
   "source": [
    "#Submit job to the queue\n",
    "gpu_cpu_job_id = !qsub queue_job.sh -d . -l nodes=1:tank-870:i5-6500te -F \"/data/models/intel/person-detection-retail-0013/FP16/person-detection-retail-0013 HETERO:GPU,CPU /data/resources/retail.mp4 /data/queue_param/retail.npy /output/results/retail/h-gpu-cpu 5\" -N store_core\n",
    "\n",
    "print(gpu_cpu_job_id[0])"
   ]
  },
  {
   "cell_type": "code",
   "execution_count": 63,
   "metadata": {},
   "outputs": [],
   "source": [
    "import liveQStat\n",
    "liveQStat.liveQStat()"
   ]
  },
  {
   "cell_type": "code",
   "execution_count": 64,
   "metadata": {},
   "outputs": [
    {
     "name": "stdout",
     "output_type": "stream",
     "text": [
      "getResults() is blocking until results of the job (id:hPKv7pOxZz7fYidMmX2CwLyyGH3yLHn9) are ready.\n",
      "Please wait...........................................Success!\n",
      "output.tgz was downloaded in the same folder as this notebook.\n"
     ]
    }
   ],
   "source": [
    "import get_results\n",
    "get_results.getResults(gpu_cpu_job_id[0], filename='output.tgz', blocking=True)"
   ]
  },
  {
   "cell_type": "code",
   "execution_count": 65,
   "metadata": {},
   "outputs": [],
   "source": [
    "!tar zxf output.tgz"
   ]
  },
  {
   "cell_type": "code",
   "execution_count": 66,
   "metadata": {},
   "outputs": [
    {
     "name": "stdout",
     "output_type": "stream",
     "text": [
      "mbox_conf1/out/conv/flat/softmax/flat is CPU\r\n",
      "mbox_conf1/out/conv/flat/reshape is GPU\r\n",
      "mbox_conf1/out/conv/flat is GPU\r\n",
      "mbox_conf1/out/conv/perm is GPU\r\n",
      "mbox_loc1/out/conv/flat is CPU\r\n",
      "mbox_loc1/out/conv/perm is CPU\r\n",
      "mbox_conf1/out/conv/flat/Cast_139070_const is GPU\r\n",
      "mbox_conf1/out/conv/flat/reshape/Cast_139084_const is GPU\r\n",
      "mbox_conf1/out/conv/flat/softmax/flat/Cast_139096_const is CPU\r\n",
      "mbox_loc1/out/conv/flat/Cast_139290_const is CPU\r\n",
      "draw_outputs\r\n",
      "Total People in frame = 4\r\n",
      "Number of people in queue = {1: 1, 2: 1}\r\n",
      "draw_outputs\r\n",
      "Total People in frame = 4\r\n",
      "Number of people in queue = {1: 1, 2: 1}\r\n",
      "draw_outputs\r\n",
      "Total People in frame = 5\r\n",
      "Number of people in queue = {1: 1, 2: 1}\r\n",
      "draw_outputs\r\n",
      "Total People in frame = 2\r\n",
      "Number of people in queue = {1: 1, 2: 0}\r\n",
      "draw_outputs\r\n",
      "Total People in frame = 0\r\n",
      "Number of people in queue = {1: 0, 2: 0}\r\n",
      "results/\r\n",
      "results/retail/\r\n",
      "results/retail/h-gpu-cpu/\r\n",
      "results/retail/h-gpu-cpu/stats.txt\r\n",
      "results/retail/h-gpu-cpu/output_video.mp4\r\n",
      "stderr.log\r\n"
     ]
    }
   ],
   "source": [
    "!cat stdout.log"
   ]
  },
  {
   "cell_type": "code",
   "execution_count": 67,
   "metadata": {},
   "outputs": [],
   "source": [
    "!cat stderr.log"
   ]
  },
  {
   "cell_type": "code",
   "execution_count": 68,
   "metadata": {},
   "outputs": [
    {
     "data": {
      "text/html": [
       "<h5>Retail GPU-CPU</h5>\n",
       "        <video alt=\"\" controls autoplay muted height=\"480\"><source src=\"results/retail/h-gpu-cpu/output_video.mp4\" type=\"video/mp4\" /></video>\n",
       "        "
      ],
      "text/plain": [
       "<IPython.core.display.HTML object>"
      ]
     },
     "execution_count": 68,
     "metadata": {},
     "output_type": "execute_result"
    }
   ],
   "source": [
    "import videoHtml\n",
    "\n",
    "videoHtml.videoHTML('Retail GPU-CPU', ['results/retail/h-gpu-cpu/output_video.mp4'])"
   ]
  },
  {
   "cell_type": "code",
   "execution_count": 69,
   "metadata": {},
   "outputs": [
    {
     "name": "stdout",
     "output_type": "stream",
     "text": [
      "5dteiD1VCDm0ujF0ETnao3GgfYIDLmlz\n"
     ]
    }
   ],
   "source": [
    "fpga_gpu_cpu_job_id = !qsub queue_job.sh -d . -l nodes=1:tank-870:i5-6500te:iei-mustang-f100-a10 -F \"/data/models/intel/person-detection-retail-0013/FP16/person-detection-retail-0013 HETERO:FPGA,GPU,CPU /data/resources/retail.mp4 /data/queue_param/retail.npy /output/results/retail/fpga-gpu-cpu 5\" -N store_core\n",
    "\n",
    "print(fpga_gpu_cpu_job_id[0])"
   ]
  },
  {
   "cell_type": "code",
   "execution_count": 70,
   "metadata": {},
   "outputs": [],
   "source": [
    "import liveQStat\n",
    "liveQStat.liveQStat()"
   ]
  },
  {
   "cell_type": "code",
   "execution_count": 71,
   "metadata": {},
   "outputs": [
    {
     "name": "stdout",
     "output_type": "stream",
     "text": [
      "getResults() is blocking until results of the job (id:5dteiD1VCDm0ujF0ETnao3GgfYIDLmlz) are ready.\n",
      "Please wait..........................................Success!\n",
      "output.tgz was downloaded in the same folder as this notebook.\n"
     ]
    }
   ],
   "source": [
    "import get_results\n",
    "get_results.getResults(fpga_gpu_cpu_job_id[0], filename='output.tgz', blocking=True)"
   ]
  },
  {
   "cell_type": "code",
   "execution_count": 72,
   "metadata": {},
   "outputs": [],
   "source": [
    "!tar zxf output.tgz"
   ]
  },
  {
   "cell_type": "code",
   "execution_count": 73,
   "metadata": {},
   "outputs": [
    {
     "name": "stdout",
     "output_type": "stream",
     "text": [
      "INTELFPGAOCLSDKROOT is not set\r\n",
      "Using script's current directory (/opt/altera/aocl-pro-rte/aclrte-linux64)\r\n",
      "\r\n",
      "aoc was not found, but aocl was found. Assuming only RTE is installed.\r\n",
      "\r\n",
      "AOCL_BOARD_PACKAGE_ROOT is set to /opt/intel/openvino/bitstreams/a10_vision_design_sg2_bitstreams/BSP/a10_1150_sg2. Using that.\r\n",
      "Adding /opt/altera/aocl-pro-rte/aclrte-linux64/bin to PATH\r\n",
      "Adding /opt/altera/aocl-pro-rte/aclrte-linux64/linux64/lib to LD_LIBRARY_PATH\r\n",
      "Adding /opt/altera/aocl-pro-rte/aclrte-linux64/host/linux64/lib to LD_LIBRARY_PATH\r\n",
      "Adding /opt/intel/openvino/bitstreams/a10_vision_design_sg2_bitstreams/BSP/a10_1150_sg2/linux64/lib to LD_LIBRARY_PATH\r\n",
      "aocl program: Running program from /opt/intel/openvino/bitstreams/a10_vision_design_sg2_bitstreams/BSP/a10_1150_sg2/linux64/libexec\r\n",
      "Programming device: a10gx_2ddr : Intel Vision Accelerator Design with Intel Arria 10 FPGA (acla10_1150_sg20)\r\n",
      "Program succeed. \r\n",
      "mbox_conf1/out/conv/flat/softmax/flat is CPU\r\n",
      "mbox_conf1/out/conv/flat/reshape is GPU\r\n",
      "mbox_conf1/out/conv/flat is GPU\r\n",
      "mbox_conf1/out/conv/perm is GPU\r\n",
      "mbox_loc1/out/conv/flat is CPU\r\n",
      "mbox_loc1/out/conv/perm is CPU\r\n",
      "mbox_conf1/out/conv/flat/Cast_139070_const is GPU\r\n",
      "mbox_conf1/out/conv/flat/reshape/Cast_139084_const is GPU\r\n",
      "mbox_conf1/out/conv/flat/softmax/flat/Cast_139096_const is CPU\r\n",
      "mbox_loc1/out/conv/flat/Cast_139290_const is CPU\r\n",
      "draw_outputs\r\n",
      "Total People in frame = 4\r\n",
      "Number of people in queue = {1: 1, 2: 1}\r\n",
      "draw_outputs\r\n",
      "Total People in frame = 4\r\n",
      "Number of people in queue = {1: 1, 2: 1}\r\n",
      "draw_outputs\r\n",
      "Total People in frame = 5\r\n",
      "Number of people in queue = {1: 1, 2: 1}\r\n",
      "draw_outputs\r\n",
      "Total People in frame = 0\r\n",
      "Number of people in queue = {1: 0, 2: 0}\r\n",
      "results/\r\n",
      "results/retail/\r\n",
      "results/retail/fpga-gpu-cpu/\r\n",
      "results/retail/fpga-gpu-cpu/stats.txt\r\n",
      "results/retail/fpga-gpu-cpu/output_video.mp4\r\n",
      "stderr.log\r\n"
     ]
    }
   ],
   "source": [
    "!cat stdout.log"
   ]
  },
  {
   "cell_type": "code",
   "execution_count": 74,
   "metadata": {},
   "outputs": [],
   "source": [
    "!cat stderr.log"
   ]
  },
  {
   "cell_type": "code",
   "execution_count": 75,
   "metadata": {},
   "outputs": [
    {
     "data": {
      "text/html": [
       "<h5>Retail FPGA-GPU-CPU</h5>\n",
       "        <video alt=\"\" controls autoplay muted height=\"480\"><source src=\"results/retail/fpga-gpu-cpu/output_video.mp4\" type=\"video/mp4\" /></video>\n",
       "        "
      ],
      "text/plain": [
       "<IPython.core.display.HTML object>"
      ]
     },
     "execution_count": 75,
     "metadata": {},
     "output_type": "execute_result"
    }
   ],
   "source": [
    "import videoHtml\n",
    "\n",
    "videoHtml.videoHTML('Retail FPGA-GPU-CPU', ['results/retail/fpga-gpu-cpu/output_video.mp4'])"
   ]
  },
  {
   "cell_type": "markdown",
   "metadata": {},
   "source": [
    "***Wait!***\n",
    "\n",
    "Please wait for all the inference jobs and video rendering to complete before proceeding to the next step.\n",
    "\n",
    "## Step 2: Assess Performance\n",
    "\n",
    "Run the cells below to compare the performance across all 4 devices. The following timings for the model are being comapred across all 4 devices:\n",
    "\n",
    "- Model Loading Time\n",
    "- Average Inference Time\n",
    "- FPS"
   ]
  },
  {
   "cell_type": "code",
   "execution_count": 88,
   "metadata": {},
   "outputs": [],
   "source": [
    "import matplotlib.pyplot as plt\n",
    "import numpy as np\n",
    "\n",
    "\n",
    "device_list=['cpu', 'gpu', 'vpu', 'cpu-vpu', 'gpu-vpu', 'cpu-gpu-vpu', 'h-gpu-cpu', 'fpga-cpu', 'fpga-gpu-cpu']\n",
    "inference_time=[]\n",
    "fps=[]\n",
    "model_load_time=[]\n",
    "\n",
    "for i, device in enumerate(device_list):\n",
    "    with open('results/retail/'+device+'/stats.txt', 'r') as f:\n",
    "        inference_time.append(float(f.readline().split(\"\\n\")[0]))\n",
    "        fps.append(float(f.readline().split(\"\\n\")[0]))\n",
    "        model_load_time.append(float(f.readline().split(\"\\n\")[0]))"
   ]
  },
  {
   "cell_type": "code",
   "execution_count": 89,
   "metadata": {},
   "outputs": [
    {
     "data": {
      "image/png": "[encoded data removed]",
      "text/plain": [
       "<matplotlib.figure.Figure at 0x7fd87983bd68>"
      ]
     },
     "metadata": {
      "needs_background": "light"
     },
     "output_type": "display_data"
    }
   ],
   "source": [
    "plt.bar(range(len(device_list)), list(map(float,model_load_time)) )\n",
    "plt.xticks(range(len(device_list)), device_list, rotation=60)\n",
    "plt.xlabel(\"Device Used\")\n",
    "plt.ylabel(\"Model Loading Time in Seconds\")\n",
    "for i, v in enumerate(model_load_time):\n",
    "    value = np.round(v,decimals=2)\n",
    "    plt.text(i - 0.25, v + 0.01, str(value))\n",
    "plt.show()"
   ]
  },
  {
   "cell_type": "code",
   "execution_count": 90,
   "metadata": {},
   "outputs": [
    {
     "data": {
      "image/png": "[encoded data removed]",
      "text/plain": [
       "<matplotlib.figure.Figure at 0x7fd877626a20>"
      ]
     },
     "metadata": {
      "needs_background": "light"
     },
     "output_type": "display_data"
    }
   ],
   "source": [
    "plt.bar(range(len(device_list)), list(map(float,inference_time)) )\n",
    "plt.xticks(range(len(device_list)), device_list, rotation=60)\n",
    "plt.xlabel(\"Device Used\")\n",
    "plt.ylabel(\"Total Inference Time in Seconds\")\n",
    "for i, v in enumerate(inference_time):\n",
    "    value = np.round(v,decimals=2)\n",
    "    plt.text(i - 0.25, v + 0.01, str(value))\n",
    "plt.show()"
   ]
  },
  {
   "cell_type": "code",
   "execution_count": 91,
   "metadata": {},
   "outputs": [
    {
     "data": {
      "image/png": "[encoded data removed]",
      "text/plain": [
       "<matplotlib.figure.Figure at 0x7fd8775d6240>"
      ]
     },
     "metadata": {
      "needs_background": "light"
     },
     "output_type": "display_data"
    }
   ],
   "source": [
    "plt.bar(range(len(device_list)), list(map(float,fps)) )\n",
    "plt.xticks(range(len(device_list)), device_list, rotation=60)\n",
    "plt.xlabel(\"Device Used\")\n",
    "plt.ylabel(\"Frames per Second\")\n",
    "# plt.xticks(device_list, rotation=60)\n",
    "for i, v in enumerate(fps):\n",
    "    value = np.round(v,decimals=2)\n",
    "    plt.text(i - 0.25, v + 0.01, str(value))\n",
    "plt.show()"
   ]
  },
  {
   "cell_type": "markdown",
   "metadata": {},
   "source": [
    "# Step 3: Update Proposal Document\n",
    "\n",
    "Now that you've completed your hardware testing, you should go back to the proposal document and validate or update your originally proposed hardware. Once you've updated your proposal, you can move onto the next scenario."
   ]
  }
 ],
 "metadata": {
  "kernelspec": {
   "display_name": "Python 3",
   "language": "python",
   "name": "python3"
  },
  "language_info": {
   "codemirror_mode": {
    "name": "ipython",
    "version": 3
   },
   "file_extension": ".py",
   "mimetype": "text/x-python",
   "name": "python",
   "nbconvert_exporter": "python",
   "pygments_lexer": "ipython3",
   "version": "3.6.3"
  }
 },
 "nbformat": 4,
 "nbformat_minor": 2
}
